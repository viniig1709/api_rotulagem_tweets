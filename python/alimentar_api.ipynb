{
 "cells": [
  {
   "cell_type": "code",
   "execution_count": 1,
   "metadata": {},
   "outputs": [],
   "source": [
    "import pandas as pd\n",
    "import requests"
   ]
  },
  {
   "cell_type": "code",
   "execution_count": 2,
   "metadata": {},
   "outputs": [
    {
     "data": {
      "text/html": [
       "<div>\n",
       "<style scoped>\n",
       "    .dataframe tbody tr th:only-of-type {\n",
       "        vertical-align: middle;\n",
       "    }\n",
       "\n",
       "    .dataframe tbody tr th {\n",
       "        vertical-align: top;\n",
       "    }\n",
       "\n",
       "    .dataframe thead th {\n",
       "        text-align: right;\n",
       "    }\n",
       "</style>\n",
       "<table border=\"1\" class=\"dataframe\">\n",
       "  <thead>\n",
       "    <tr style=\"text-align: right;\">\n",
       "      <th></th>\n",
       "      <th>idTweet</th>\n",
       "      <th>text</th>\n",
       "      <th>latitude</th>\n",
       "      <th>longitude</th>\n",
       "    </tr>\n",
       "  </thead>\n",
       "  <tbody>\n",
       "    <tr>\n",
       "      <th>0</th>\n",
       "      <td>316257751598780416</td>\n",
       "      <td>Que tipo de bandido rouba 17 reais ? \\r\\nfui r...</td>\n",
       "      <td>-23.674298</td>\n",
       "      <td>-46.764356</td>\n",
       "    </tr>\n",
       "    <tr>\n",
       "      <th>1</th>\n",
       "      <td>292782582788128768</td>\n",
       "      <td>Ainda bem q eu n fui ja penso rouba meu  iphon...</td>\n",
       "      <td>-23.518996</td>\n",
       "      <td>-46.534266</td>\n",
       "    </tr>\n",
       "    <tr>\n",
       "      <th>2</th>\n",
       "      <td>276641216647532544</td>\n",
       "      <td>Então falei: \"taxista, vamos pra vila olímpia....</td>\n",
       "      <td>-23.548694</td>\n",
       "      <td>-46.650272</td>\n",
       "    </tr>\n",
       "    <tr>\n",
       "      <th>3</th>\n",
       "      <td>262363758855323649</td>\n",
       "      <td>Fui rouba a doceira hj pra @_pfvrje quase fui ...</td>\n",
       "      <td>-23.508300</td>\n",
       "      <td>-46.436667</td>\n",
       "    </tr>\n",
       "    <tr>\n",
       "      <th>4</th>\n",
       "      <td>391033038987341824</td>\n",
       "      <td>@axexeo por favor ajude a divulgar um crime qu...</td>\n",
       "      <td>-23.475125</td>\n",
       "      <td>-46.649000</td>\n",
       "    </tr>\n",
       "    <tr>\n",
       "      <th>...</th>\n",
       "      <td>...</td>\n",
       "      <td>...</td>\n",
       "      <td>...</td>\n",
       "      <td>...</td>\n",
       "    </tr>\n",
       "    <tr>\n",
       "      <th>6701</th>\n",
       "      <td>288278991301910528</td>\n",
       "      <td>Depois de um dia correndo pelo jardim, curtind...</td>\n",
       "      <td>-23.421732</td>\n",
       "      <td>-46.762711</td>\n",
       "    </tr>\n",
       "    <tr>\n",
       "      <th>6702</th>\n",
       "      <td>288103376661667841</td>\n",
       "      <td>Depois de um dia correndo pelo jardim, curtind...</td>\n",
       "      <td>-23.421732</td>\n",
       "      <td>-46.762711</td>\n",
       "    </tr>\n",
       "    <tr>\n",
       "      <th>6703</th>\n",
       "      <td>278607001070743552</td>\n",
       "      <td>@nathy_glm ahhh eu quero roub..ver!!! hahsha l...</td>\n",
       "      <td>-23.465054</td>\n",
       "      <td>-46.666649</td>\n",
       "    </tr>\n",
       "    <tr>\n",
       "      <th>6704</th>\n",
       "      <td>286337547905400832</td>\n",
       "      <td>Gente, peraí. vou ter de desligar pois ta vind...</td>\n",
       "      <td>-23.549751</td>\n",
       "      <td>-46.648835</td>\n",
       "    </tr>\n",
       "    <tr>\n",
       "      <th>6705</th>\n",
       "      <td>261962400041951232</td>\n",
       "      <td>Nao costumo postar em locais públicos pq tem m...</td>\n",
       "      <td>-23.556835</td>\n",
       "      <td>-46.658515</td>\n",
       "    </tr>\n",
       "  </tbody>\n",
       "</table>\n",
       "<p>6706 rows × 4 columns</p>\n",
       "</div>"
      ],
      "text/plain": [
       "                 idTweet                                               text  \\\n",
       "0     316257751598780416  Que tipo de bandido rouba 17 reais ? \\r\\nfui r...   \n",
       "1     292782582788128768  Ainda bem q eu n fui ja penso rouba meu  iphon...   \n",
       "2     276641216647532544  Então falei: \"taxista, vamos pra vila olímpia....   \n",
       "3     262363758855323649  Fui rouba a doceira hj pra @_pfvrje quase fui ...   \n",
       "4     391033038987341824  @axexeo por favor ajude a divulgar um crime qu...   \n",
       "...                  ...                                                ...   \n",
       "6701  288278991301910528  Depois de um dia correndo pelo jardim, curtind...   \n",
       "6702  288103376661667841  Depois de um dia correndo pelo jardim, curtind...   \n",
       "6703  278607001070743552  @nathy_glm ahhh eu quero roub..ver!!! hahsha l...   \n",
       "6704  286337547905400832  Gente, peraí. vou ter de desligar pois ta vind...   \n",
       "6705  261962400041951232  Nao costumo postar em locais públicos pq tem m...   \n",
       "\n",
       "       latitude  longitude  \n",
       "0    -23.674298 -46.764356  \n",
       "1    -23.518996 -46.534266  \n",
       "2    -23.548694 -46.650272  \n",
       "3    -23.508300 -46.436667  \n",
       "4    -23.475125 -46.649000  \n",
       "...         ...        ...  \n",
       "6701 -23.421732 -46.762711  \n",
       "6702 -23.421732 -46.762711  \n",
       "6703 -23.465054 -46.666649  \n",
       "6704 -23.549751 -46.648835  \n",
       "6705 -23.556835 -46.658515  \n",
       "\n",
       "[6706 rows x 4 columns]"
      ]
     },
     "execution_count": 2,
     "metadata": {},
     "output_type": "execute_result"
    }
   ],
   "source": [
    "df = pd.read_csv('../data/Tweets/dadosTwitter.csv')\n",
    "df"
   ]
  },
  {
   "cell_type": "code",
   "execution_count": 3,
   "metadata": {},
   "outputs": [],
   "source": [
    "# df['rotulado'] = False\n",
    "# df"
   ]
  },
  {
   "cell_type": "code",
   "execution_count": 4,
   "metadata": {},
   "outputs": [],
   "source": [
    "df.to_json('../data/Tweets/dadosTwitter.json', orient='records')"
   ]
  },
  {
   "cell_type": "markdown",
   "metadata": {},
   "source": [
    "## Enviar dados para a APi"
   ]
  },
  {
   "cell_type": "code",
   "execution_count": 5,
   "metadata": {},
   "outputs": [],
   "source": [
    "import json"
   ]
  },
  {
   "cell_type": "code",
   "execution_count": 11,
   "metadata": {},
   "outputs": [
    {
     "data": {
      "text/plain": [
       "[{'idTweet': 316257751598780416,\n",
       "  'text': 'Que tipo de bandido rouba 17 reais ? \\r\\nfui roubado :s !',\n",
       "  'latitude': -23.6742979,\n",
       "  'longitude': -46.76435632},\n",
       " {'idTweet': 292782582788128768,\n",
       "  'text': 'Ainda bem q eu n fui ja penso rouba meu  iphone eu morro !!',\n",
       "  'latitude': -23.51899598,\n",
       "  'longitude': -46.5342656},\n",
       " {'idTweet': 276641216647532544,\n",
       "  'text': 'Então falei: \"taxista, vamos pra vila olímpia. como quem rouba\". e fui assaltada.',\n",
       "  'latitude': -23.54869415,\n",
       "  'longitude': -46.6502719}]"
      ]
     },
     "execution_count": 11,
     "metadata": {},
     "output_type": "execute_result"
    }
   ],
   "source": [
    "f = open('../data/Tweets/dadosTwitter.json')\n",
    "\n",
    "data = json.load(f)\n",
    "\n",
    "f.close()\n",
    "\n",
    "data[:3]"
   ]
  },
  {
   "cell_type": "code",
   "execution_count": null,
   "metadata": {},
   "outputs": [],
   "source": [
    "# url = 'https://api-rotulagem-tweets.herokuapp.com'\n",
    "url = 'http://localhost:3000'"
   ]
  },
  {
   "cell_type": "code",
   "execution_count": 12,
   "metadata": {},
   "outputs": [
    {
     "data": {
      "text/plain": [
       "200"
      ]
     },
     "execution_count": 12,
     "metadata": {},
     "output_type": "execute_result"
    }
   ],
   "source": [
    "r = requests.post(\n",
    "  '%s/tweets/adicionar/dump' % url,\n",
    "  json=data\n",
    ")\n",
    "\n",
    "r.status_code"
   ]
  },
  {
   "cell_type": "markdown",
   "metadata": {},
   "source": [
    "## Testar rotulagem"
   ]
  },
  {
   "cell_type": "code",
   "execution_count": 9,
   "metadata": {},
   "outputs": [
    {
     "data": {
      "text/plain": [
       "200"
      ]
     },
     "execution_count": 9,
     "metadata": {},
     "output_type": "execute_result"
    }
   ],
   "source": [
    "dadosUpdate = {\n",
    "  'idTweet': 316257751598780400,\n",
    "  'rotulado': True,\n",
    "  'categoriaRotulo': 'roubo'\n",
    "}\n",
    "\n",
    "r = requests.post(\n",
    "  '%s/tweets/rotular/tweet' % url,\n",
    "  json=dadosUpdate\n",
    ")\n",
    "\n",
    "r.status_code"
   ]
  }
 ],
 "metadata": {
  "kernelspec": {
   "display_name": "Python 3.8.10 ('ambiente-rotulador': venv)",
   "language": "python",
   "name": "python3"
  },
  "language_info": {
   "codemirror_mode": {
    "name": "ipython",
    "version": 3
   },
   "file_extension": ".py",
   "mimetype": "text/x-python",
   "name": "python",
   "nbconvert_exporter": "python",
   "pygments_lexer": "ipython3",
   "version": "3.8.10"
  },
  "orig_nbformat": 4,
  "vscode": {
   "interpreter": {
    "hash": "7fc15b37e965f2f3fb114c0073628db0b4d3ff22465800040fd6e61d45f4c2ad"
   }
  }
 },
 "nbformat": 4,
 "nbformat_minor": 2
}
